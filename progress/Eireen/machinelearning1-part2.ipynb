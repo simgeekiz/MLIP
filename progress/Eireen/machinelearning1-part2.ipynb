{
 "cells": [
  {
   "cell_type": "markdown",
   "metadata": {},
   "source": [
    "## Machine Learning in Practice trials"
   ]
  },
  {
   "cell_type": "code",
   "execution_count": 1,
   "metadata": {
    "collapsed": true
   },
   "outputs": [],
   "source": [
    "import pandas as pd\n",
    "import numpy as np\n",
    "\n",
    "from numpy import genfromtxt\n",
    "\n",
    "# Takes a path to a directory and opens returns the train and test set in that directory as a pandas dataframe.\n",
    "def mnist_to_csv(path):\n",
    "\ttrain = pd.read_csv(path + 'train.csv')\n",
    "\ty = train.ix[:,0].values\n",
    "\ttrain = train.drop('label',1).values\n",
    "\ttest = pd.read_csv(path + 'test.csv').values\n",
    "\treturn [train, y, test]\n",
    "\n",
    "# Takes a path to a directory and opens returns the train and test set in that directory as a numpy array.\n",
    "def mnist_to_nparray(path):\n",
    "\t[train, y, test] = mnist_to_csv(path)\n",
    "\ttrain = train.values\n",
    "\ty = y.values\n",
    "\ttest = test.values\n",
    "\treturn [train, y, test]\n",
    "\t\n",
    "# Takes list of 28000 predictions and writes them to csv file ready for submission to Kaggle.\n",
    "def write_results(res, path=''):\n",
    "\tresults = pd.DataFrame({'ImageId':range(1,28001), 'Label':res})\n",
    "\tresults.to_csv(path + 'results.csv', index=False)\n",
    "\t\n",
    "# Takes list of categorical values and converts it to Kaggle compatible list.\n",
    "def categorical_to_class(cat):\n",
    "\tclasses = []\n",
    "\tfor c in cat:\n",
    "\t\tclasses.append(np.argmax(c))\n",
    "\treturn classes\n",
    "\t\n",
    "\n"
   ]
  },
  {
   "cell_type": "code",
   "execution_count": 2,
   "metadata": {},
   "outputs": [
    {
     "name": "stderr",
     "output_type": "stream",
     "text": [
      "C:\\Users\\Eireen\\Anaconda3\\lib\\site-packages\\ipykernel_launcher.py:9: DeprecationWarning: \n",
      ".ix is deprecated. Please use\n",
      ".loc for label based indexing or\n",
      ".iloc for positional indexing\n",
      "\n",
      "See the documentation here:\n",
      "http://pandas.pydata.org/pandas-docs/stable/indexing.html#ix-indexer-is-deprecated\n",
      "  if __name__ == '__main__':\n"
     ]
    }
   ],
   "source": [
    "trainxp, trainyp, testset = mnist_to_csv(\"data\\\\\")\n",
    "\n",
    "separationIndex = int( len(trainxp)*0.1)\n",
    "trainx = trainxp[separationIndex:len(trainxp)]\n",
    "testx = trainxp[0:separationIndex-1]\n",
    "trainy = trainyp[separationIndex:len(trainxp)]\n",
    "testy = trainyp[0:separationIndex-1]\n",
    "\n"
   ]
  },
  {
   "cell_type": "code",
   "execution_count": 3,
   "metadata": {
    "collapsed": true
   },
   "outputs": [],
   "source": [
    "#temporary noise toolkit\n",
    "import copy\n",
    "from random import random, seed, randint\n",
    "def add_noisy_pixels(x, p, rseed=-1):\n",
    "\tnewx = copy.copy(x)\n",
    "\tif rseed != -1:\n",
    "\t\tseed(rseed)\n",
    "\tfor i in range(0,len(x)):\n",
    "\t\tfor j in range(0, len(x[0])):\n",
    "\t\t\tif random() < p:\n",
    "\t\t\t\tnewx[i][j] = randint(0,255)\n",
    "\treturn newx"
   ]
  },
  {
   "cell_type": "code",
   "execution_count": 4,
   "metadata": {
    "collapsed": true
   },
   "outputs": [],
   "source": [
    "#import toolkit.noise\n",
    "#import random\n",
    "testx_noisy_pixels = add_noisy_pixels(testx, 0.6, 1)\n",
    "trainx_noisy_pixels = add_noisy_pixels(trainx, 0.6, 2)\n",
    "\n"
   ]
  },
  {
   "cell_type": "code",
   "execution_count": 5,
   "metadata": {},
   "outputs": [
    {
     "name": "stdout",
     "output_type": "stream",
     "text": [
      "(28000, 784)\n"
     ]
    }
   ],
   "source": [
    "print(testset.shape)\n",
    "testset_sq = np.reshape(testset,(len(testset),28,28,1))\n",
    "\n",
    "testset_noisy_sq = np.reshape(add_noisy_pixels(testset, 0.6, 3),(len(testset),28,28,1))"
   ]
  },
  {
   "cell_type": "code",
   "execution_count": 8,
   "metadata": {
    "collapsed": true
   },
   "outputs": [],
   "source": [
    "trainx_sq = np.reshape(trainx,(len(trainx), 28, 28,1))\n",
    "testx_sq = np.reshape(testx,(len(testx),28,28,1))\n",
    "testx_sq_noisy = np.reshape(testx_noisy_pixels,(len(testx),28,28,1))\n",
    "trainx_sq_noisy = np.reshape(trainx_noisy_pixels,(len(trainx),28,28,1))"
   ]
  },
  {
   "cell_type": "code",
   "execution_count": 9,
   "metadata": {},
   "outputs": [
    {
     "name": "stdout",
     "output_type": "stream",
     "text": [
      "1\n"
     ]
    },
    {
     "data": {
      "image/png": "[encoded data removed]",
      "text/plain": [
       "<matplotlib.figure.Figure at 0x28592be6e10>"
      ]
     },
     "metadata": {},
     "output_type": "display_data"
    },
    {
     "name": "stdout",
     "output_type": "stream",
     "text": [
      "0\n"
     ]
    },
    {
     "data": {
      "image/png": "[encoded data removed]",
      "text/plain": [
       "<matplotlib.figure.Figure at 0x28592cb23c8>"
      ]
     },
     "metadata": {},
     "output_type": "display_data"
    },
    {
     "name": "stdout",
     "output_type": "stream",
     "text": [
      "1\n"
     ]
    },
    {
     "data": {
      "image/png": "[encoded data removed]",
      "text/plain": [
       "<matplotlib.figure.Figure at 0x28592d73f60>"
      ]
     },
     "metadata": {},
     "output_type": "display_data"
    }
   ],
   "source": [
    "import matplotlib\n",
    "import matplotlib.pyplot as plot\n",
    "#plot test\n",
    "\n",
    "for i in range(0,3):\n",
    "    print(testy[i])\n",
    "    plot.imshow(np.reshape(testx_sq_noisy, (len(testx), 28,28)) [i], cmap='gray')\n",
    "    plot.show()\n"
   ]
  },
  {
   "cell_type": "code",
   "execution_count": 10,
   "metadata": {
    "collapsed": true
   },
   "outputs": [],
   "source": [
    "from skimage.filters import gabor_kernel\n",
    "from skimage import io\n",
    "from matplotlib import pyplot as pltk\n",
    "import scipy\n",
    "\n",
    "def extract_features(img): \n",
    "    imgsq = np.reshape(img,(28,28))\n",
    "    imgblurred = scipy.ndimage.filters.gaussian_filter(imgsq, 1.3)\n",
    "    features = [imgblurred]\n",
    "    #gabor filter\n",
    "    thetas = [0, 0.3, 0.6, 0.9, 1.2, 1.6, -0.3, -0.6]\n",
    "   # thetas = [0, 0.6, 1.6, -0.6]\n",
    "    \n",
    "    for t in thetas:\n",
    "        kernel = np.real(gabor_kernel(0.4, t))\n",
    "        conv = scipy.signal.fftconvolve(imgblurred, kernel, mode='same')\n",
    "        \n",
    "        features.append(conv)\n",
    "        \n",
    "    #features.append(imgblurred)\n",
    "    return features\n",
    "\n",
    "        #normalisation idea: extract lines, sort by orientation, save length, normalize length to height of shape/ longest line\n",
    "    \n",
    "    #gabor filter wil react on lines that are not necessarily matching in direction. Maybe compute all gabors, \n",
    "    #sort by strongest reaction\n",
    "    \n",
    "    #use (inverse) gaussian for circle detection??????\n",
    "\n"
   ]
  },
  {
   "cell_type": "code",
   "execution_count": 10,
   "metadata": {},
   "outputs": [
    {
     "name": "stderr",
     "output_type": "stream",
     "text": [
      "C:\\Users\\Eireen\\Anaconda3\\lib\\site-packages\\scipy\\signal\\signaltools.py:375: FutureWarning: Conversion of the second argument of issubdtype from `complex` to `np.complexfloating` is deprecated. In future, it will be treated as `np.complex128 == np.dtype(complex).type`.\n",
      "  complex_result = (np.issubdtype(in1.dtype, complex) or\n",
      "C:\\Users\\Eireen\\Anaconda3\\lib\\site-packages\\scipy\\signal\\signaltools.py:376: FutureWarning: Conversion of the second argument of issubdtype from `complex` to `np.complexfloating` is deprecated. In future, it will be treated as `np.complex128 == np.dtype(complex).type`.\n",
      "  np.issubdtype(in2.dtype, complex))\n"
     ]
    },
    {
     "data": {
      "image/png": "[encoded data removed]",
      "text/plain": [
       "<matplotlib.figure.Figure at 0x2cf696d4da0>"
      ]
     },
     "metadata": {},
     "output_type": "display_data"
    },
    {
     "data": {
      "image/png": "[encoded data removed]",
      "text/plain": [
       "<matplotlib.figure.Figure at 0x2cf696578d0>"
      ]
     },
     "metadata": {},
     "output_type": "display_data"
    },
    {
     "data": {
      "image/png": "[encoded data removed]",
      "text/plain": [
       "<matplotlib.figure.Figure at 0x2cf6aac0940>"
      ]
     },
     "metadata": {},
     "output_type": "display_data"
    },
    {
     "data": {
      "image/png": "[encoded data removed]",
      "text/plain": [
       "<matplotlib.figure.Figure at 0x2cf6964ebe0>"
      ]
     },
     "metadata": {},
     "output_type": "display_data"
    },
    {
     "data": {
      "image/png": "[encoded data removed]",
      "text/plain": [
       "<matplotlib.figure.Figure at 0x2cf7e17b5f8>"
      ]
     },
     "metadata": {},
     "output_type": "display_data"
    }
   ],
   "source": [
    "test = extract_features(testx_noisy_pixels[2])\n",
    "\n",
    "for each in test:\n",
    "    plot.imshow(each, cmap='gray')\n",
    "    plot.show()"
   ]
  },
  {
   "cell_type": "code",
   "execution_count": 11,
   "metadata": {},
   "outputs": [
    {
     "name": "stderr",
     "output_type": "stream",
     "text": [
      "C:\\Users\\Eireen\\Anaconda3\\lib\\site-packages\\scipy\\signal\\signaltools.py:375: FutureWarning: Conversion of the second argument of issubdtype from `complex` to `np.complexfloating` is deprecated. In future, it will be treated as `np.complex128 == np.dtype(complex).type`.\n",
      "  complex_result = (np.issubdtype(in1.dtype, complex) or\n",
      "C:\\Users\\Eireen\\Anaconda3\\lib\\site-packages\\scipy\\signal\\signaltools.py:376: FutureWarning: Conversion of the second argument of issubdtype from `complex` to `np.complexfloating` is deprecated. In future, it will be treated as `np.complex128 == np.dtype(complex).type`.\n",
      "  np.issubdtype(in2.dtype, complex))\n"
     ]
    }
   ],
   "source": [
    "feature_train = [extract_features(x) for x in trainx_noisy_pixels]\n",
    "feature_test = [extract_features(x) for x in testx_noisy_pixels]"
   ]
  },
  {
   "cell_type": "code",
   "execution_count": 12,
   "metadata": {},
   "outputs": [
    {
     "name": "stderr",
     "output_type": "stream",
     "text": [
      "C:\\Users\\Eireen\\Anaconda3\\lib\\site-packages\\scipy\\signal\\signaltools.py:375: FutureWarning: Conversion of the second argument of issubdtype from `complex` to `np.complexfloating` is deprecated. In future, it will be treated as `np.complex128 == np.dtype(complex).type`.\n",
      "  complex_result = (np.issubdtype(in1.dtype, complex) or\n",
      "C:\\Users\\Eireen\\Anaconda3\\lib\\site-packages\\scipy\\signal\\signaltools.py:376: FutureWarning: Conversion of the second argument of issubdtype from `complex` to `np.complexfloating` is deprecated. In future, it will be treated as `np.complex128 == np.dtype(complex).type`.\n",
      "  np.issubdtype(in2.dtype, complex))\n"
     ]
    }
   ],
   "source": [
    "feature_train_n = [extract_features(x) for x in trainx_sq]\n",
    "feature_test_n = [extract_features(x) for x in testx_sq]"
   ]
  },
  {
   "cell_type": "markdown",
   "metadata": {},
   "source": [
    "### Neural Network"
   ]
  },
  {
   "cell_type": "code",
   "execution_count": 13,
   "metadata": {},
   "outputs": [
    {
     "name": "stderr",
     "output_type": "stream",
     "text": [
      "C:\\Users\\Eireen\\Anaconda3\\lib\\site-packages\\h5py\\__init__.py:34: FutureWarning: Conversion of the second argument of issubdtype from `float` to `np.floating` is deprecated. In future, it will be treated as `np.float64 == np.dtype(float).type`.\n",
      "  from ._conv import register_converters as _register_converters\n",
      "Using TensorFlow backend.\n"
     ]
    }
   ],
   "source": [
    "import tensorflow as tf\n",
    "import keras\n",
    "#feature_train = [extract_features(x) for x in trainx_noisy_pixels]\n",
    "#feature_test = [extract_features(x) for x in testx_noisy_pixels]\n",
    "\n",
    "\n",
    "from keras.models import Sequential\n",
    "from keras.layers import Dense, Activation, BatchNormalization, Conv2D, MaxPooling2D, Dropout, Flatten\n",
    "\n"
   ]
  },
  {
   "cell_type": "code",
   "execution_count": 21,
   "metadata": {
    "collapsed": true
   },
   "outputs": [],
   "source": [
    "\n",
    "def build_neural_network(data_size, n_classes):\n",
    "    #convolution\n",
    "    network = Sequential()\n",
    "    network.add(Conv2D(20, (5,5), input_shape = data_size))\n",
    "    network.add(BatchNormalization())\n",
    "    network.add(Activation('relu'))\n",
    "    \n",
    "    network.add(Dropout(0.25))\n",
    "    \n",
    "    network.add(Conv2D(20, (5,5)))\n",
    "    network.add(BatchNormalization())\n",
    "    network.add(Activation('relu'))\n",
    "    \n",
    "    network.add(Dropout(0.25))\n",
    "    \n",
    "    network.add(Flatten())\n",
    "    \n",
    "    network.add(Dense(20))\n",
    "    network.add(BatchNormalization())\n",
    "    network.add(Activation('relu'))\n",
    "    \n",
    "    \n",
    "    \n",
    "    \n",
    "    network.add(Dense(n_classes, activation='softmax'))\n",
    "    \n",
    "    \n",
    "    \n",
    "    return network\n",
    "\n",
    "\n",
    "def build_neural_network_no_conv(data_size, n_classes):\n",
    "    #convolution\n",
    "    network = Sequential()\n",
    "    \n",
    "   # network.add(Dense(20, input_shape = data_size))\n",
    "   # network.add(BatchNormalization())\n",
    "   # network.add(Activation('relu'))\n",
    "    \n",
    "    \n",
    "    network.add(Dropout(0.25, input_shape = data_size))\n",
    "    \n",
    "    network.add(Flatten())\n",
    "    \n",
    "    network.add(Dense(20))\n",
    "    network.add(BatchNormalization())\n",
    "    network.add(Activation('relu'))\n",
    "    \n",
    "    \n",
    "    \n",
    "    \n",
    "    network.add(Dense(n_classes, activation='softmax'))\n",
    "    \n",
    "    \n",
    "    \n",
    "    return network\n",
    "\n",
    "\n",
    "\n"
   ]
  },
  {
   "cell_type": "code",
   "execution_count": 28,
   "metadata": {},
   "outputs": [],
   "source": [
    "#network=build_neural_network_no_conv((9,28,28), 10)\n",
    "#network=build_neural_network_no_conv((28,28,1), 10)\n",
    "# build neural network object\n",
    "#network=build_neural_network([5*28*28], 10)\n",
    "#network=build_neural_network((37800, 5, 28, 28), 10)\n",
    "network=build_neural_network((28, 28,1), 10)"
   ]
  },
  {
   "cell_type": "code",
   "execution_count": 29,
   "metadata": {},
   "outputs": [
    {
     "name": "stdout",
     "output_type": "stream",
     "text": [
      "_________________________________________________________________\n",
      "Layer (type)                 Output Shape              Param #   \n",
      "=================================================================\n",
      "conv2d_11 (Conv2D)           (None, 24, 24, 20)        520       \n",
      "_________________________________________________________________\n",
      "batch_normalization_4 (Batch (None, 24, 24, 20)        80        \n",
      "_________________________________________________________________\n",
      "activation_4 (Activation)    (None, 24, 24, 20)        0         \n",
      "_________________________________________________________________\n",
      "dropout_4 (Dropout)          (None, 24, 24, 20)        0         \n",
      "_________________________________________________________________\n",
      "conv2d_12 (Conv2D)           (None, 20, 20, 20)        10020     \n",
      "_________________________________________________________________\n",
      "batch_normalization_5 (Batch (None, 20, 20, 20)        80        \n",
      "_________________________________________________________________\n",
      "activation_5 (Activation)    (None, 20, 20, 20)        0         \n",
      "_________________________________________________________________\n",
      "dropout_5 (Dropout)          (None, 20, 20, 20)        0         \n",
      "_________________________________________________________________\n",
      "flatten_2 (Flatten)          (None, 8000)              0         \n",
      "_________________________________________________________________\n",
      "dense_3 (Dense)              (None, 20)                160020    \n",
      "_________________________________________________________________\n",
      "batch_normalization_6 (Batch (None, 20)                80        \n",
      "_________________________________________________________________\n",
      "activation_6 (Activation)    (None, 20)                0         \n",
      "_________________________________________________________________\n",
      "dense_4 (Dense)              (None, 10)                210       \n",
      "=================================================================\n",
      "Total params: 171,010\n",
      "Trainable params: 170,890\n",
      "Non-trainable params: 120\n",
      "_________________________________________________________________\n"
     ]
    }
   ],
   "source": [
    "from keras import optimizers\n",
    "\n",
    "loss = \"categorical_crossentropy\" \n",
    "sgd = optimizers.SGD(lr=0.7) \n",
    "metrics = ['accuracy'] \n",
    "\n",
    "network.compile(loss=loss, optimizer=sgd, metrics=metrics)\n",
    "network.summary()\n"
   ]
  },
  {
   "cell_type": "code",
   "execution_count": 30,
   "metadata": {
    "collapsed": true
   },
   "outputs": [],
   "source": [
    "trainy_vector = keras.utils.to_categorical(trainy, num_classes = 10)\n",
    "testy_vector = keras.utils.to_categorical(testy, num_classes = 10)\n",
    "\n"
   ]
  },
  {
   "cell_type": "code",
   "execution_count": 31,
   "metadata": {},
   "outputs": [
    {
     "name": "stdout",
     "output_type": "stream",
     "text": [
      "37800/37800 [==============================] - 138s 4ms/step\n",
      "13.702671273246644\n",
      "0.06674603174760858\n"
     ]
    }
   ],
   "source": [
    "#scores=network.evaluate(np.reshape(np.array(feature_train), (len(feature_train), 5*28*28)), trainy_vector, batch_size=1)\n",
    "#scores= network.evaluate(np.array(trainx_sq_noisy), trainy_vector, batch_size=128)\n",
    "#scores= network.evaluate(np.array(feature_train_n), trainy_vector, batch_size=128)\n",
    "scores= network.evaluate(np.array(trainx_sq), trainy_vector, batch_size=128)\n",
    "val_loss=scores[0]\n",
    "val_acc=scores[1]\n",
    "print(val_loss)\n",
    "print(val_acc)"
   ]
  },
  {
   "cell_type": "code",
   "execution_count": 31,
   "metadata": {},
   "outputs": [
    {
     "name": "stdout",
     "output_type": "stream",
     "text": [
      "(37800, 28, 28, 1)\n",
      "5\n"
     ]
    }
   ],
   "source": [
    "print(trainx_sq_noisy.shape)\n",
    "print(len(feature_train[0])) # 37800 x 5 x 28 x 28\n",
    "#print(np.array(feature_train).shape)\n",
    "#trainy_vector.shape\n",
    "#testx_sq_noisy.shape"
   ]
  },
  {
   "cell_type": "code",
   "execution_count": 34,
   "metadata": {
    "scrolled": true
   },
   "outputs": [
    {
     "name": "stdout",
     "output_type": "stream",
     "text": [
      "10\n",
      "Epoch 1/1\n",
      "37800/37800 [==============================] - 350s 9ms/step - loss: 0.1707 - acc: 0.9477\n",
      "train accuracy: \n",
      "[0.9476719470960754]\n",
      "4199/4199 [==============================] - 16s 4ms/step\n",
      "test accuracy: \n",
      "0.9711836151464635\n",
      "11\n",
      "Epoch 1/1\n",
      "37800/37800 [==============================] - 350s 9ms/step - loss: 0.0754 - acc: 0.9765\n",
      "train accuracy: \n",
      "[0.9764550174985613]\n",
      "4199/4199 [==============================] - 15s 4ms/step\n",
      "test accuracy: \n",
      "0.9871397951893308\n",
      "12\n",
      "Epoch 1/1\n",
      "37800/37800 [==============================] - 345s 9ms/step - loss: 0.0579 - acc: 0.9816\n",
      "train accuracy: \n",
      "[0.9815608380805878]\n",
      "4199/4199 [==============================] - 15s 4ms/step\n",
      "test accuracy: \n",
      "0.9878542510121457\n",
      "13\n",
      "Epoch 1/1\n",
      "37800/37800 [==============================] - 349s 9ms/step - loss: 0.0502 - acc: 0.9845\n",
      "train accuracy: \n",
      "[0.9844973461495505]\n",
      "4199/4199 [==============================] - 15s 4ms/step\n",
      "test accuracy: \n",
      "0.9892831626577756\n",
      "14\n",
      "Epoch 1/1\n",
      "37800/37800 [==============================] - 349s 9ms/step - loss: 0.0426 - acc: 0.9857\n",
      "train accuracy: \n",
      "[0.985740733241278]\n",
      "4199/4199 [==============================] - 16s 4ms/step\n",
      "test accuracy: \n",
      "0.9849964277208859\n",
      "15\n",
      "Epoch 1/1\n",
      "37800/37800 [==============================] - 345s 9ms/step - loss: 0.0371 - acc: 0.9888\n",
      "train accuracy: \n",
      "[0.988756607449244]\n",
      "4199/4199 [==============================] - 16s 4ms/step\n",
      "test accuracy: \n",
      "0.9878542510121457\n",
      "16\n",
      "Epoch 1/1\n",
      "37800/37800 [==============================] - 349s 9ms/step - loss: 0.0358 - acc: 0.9885\n",
      "train accuracy: \n",
      "[0.9885449672502185]\n",
      "4199/4199 [==============================] - 16s 4ms/step\n",
      "test accuracy: \n",
      "0.9890450107168374\n",
      "17\n",
      "Epoch 1/1\n",
      "37800/37800 [==============================] - 344s 9ms/step - loss: 0.0303 - acc: 0.9905\n",
      "train accuracy: \n",
      "[0.9905026395169515]\n",
      "4199/4199 [==============================] - 16s 4ms/step\n",
      "test accuracy: \n",
      "0.9873779471302692\n",
      "18\n",
      "Epoch 1/1\n",
      "37800/37800 [==============================] - 347s 9ms/step - loss: 0.0292 - acc: 0.9901\n",
      "train accuracy: \n",
      "[0.99013226883752]\n",
      "4199/4199 [==============================] - 16s 4ms/step\n",
      "test accuracy: \n",
      "0.9890450107168374\n",
      "19\n",
      "Epoch 1/1\n",
      "37800/37800 [==============================] - 346s 9ms/step - loss: 0.0258 - acc: 0.9912\n",
      "train accuracy: \n",
      "[0.9911904705895318]\n",
      "4199/4199 [==============================] - 16s 4ms/step\n",
      "test accuracy: \n",
      "0.989521314598714\n",
      "20\n",
      "Epoch 1/1\n",
      "37800/37800 [==============================] - 349s 9ms/step - loss: 0.0246 - acc: 0.9916\n",
      "train accuracy: \n",
      "[0.9915872960809677]\n",
      "4199/4199 [==============================] - 16s 4ms/step\n",
      "test accuracy: \n",
      "0.9902357704215289\n",
      "21\n",
      "Epoch 1/1\n",
      "37800/37800 [==============================] - 426s 11ms/step - loss: 0.0231 - acc: 0.9923\n",
      "train accuracy: \n",
      "[0.9923280373452201]\n",
      "4199/4199 [==============================] - 13s 3ms/step\n",
      "test accuracy: \n",
      "0.9861871874255775\n",
      "22\n",
      "Epoch 1/1\n",
      "37800/37800 [==============================] - 216s 6ms/step - loss: 0.0203 - acc: 0.9936\n",
      "train accuracy: \n",
      "[0.9935978794854785]\n",
      "4199/4199 [==============================] - 10s 2ms/step\n",
      "test accuracy: \n",
      "0.9885687068349607\n",
      "23\n",
      "Epoch 1/1\n",
      "37800/37800 [==============================] - 217s 6ms/step - loss: 0.0197 - acc: 0.9933\n",
      "train accuracy: \n",
      "[0.9932539638072725]\n",
      "4199/4199 [==============================] - 9s 2ms/step\n",
      "test accuracy: \n",
      "0.9897594665396523\n",
      "24\n",
      "Epoch 1/1\n",
      "37800/37800 [==============================] - 216s 6ms/step - loss: 0.0202 - acc: 0.9939\n",
      "train accuracy: \n",
      "[0.9938624293558181]\n",
      "4199/4199 [==============================] - 10s 2ms/step\n",
      "test accuracy: \n",
      "0.989521314598714\n",
      "25\n",
      "Epoch 1/1\n",
      "37800/37800 [==============================] - 208s 6ms/step - loss: 0.0171 - acc: 0.9945\n",
      "train accuracy: \n",
      "[0.9944973506624737]\n",
      "4199/4199 [==============================] - 9s 2ms/step\n",
      "test accuracy: \n",
      "0.9902357704215289\n",
      "26\n",
      "Epoch 1/1\n",
      "37800/37800 [==============================] - 193s 5ms/step - loss: 0.0169 - acc: 0.9943\n",
      "train accuracy: \n",
      "[0.9942857105107534]\n",
      "4199/4199 [==============================] - 8s 2ms/step\n",
      "test accuracy: \n",
      "0.9919028340080972\n",
      "27\n",
      "Epoch 1/1\n",
      "37800/37800 [==============================] - 206s 5ms/step - loss: 0.0144 - acc: 0.9951\n",
      "train accuracy: \n",
      "[0.995079361257099]\n",
      "4199/4199 [==============================] - 10s 2ms/step\n",
      "test accuracy: \n",
      "0.9914265301262205\n",
      "28\n",
      "Epoch 1/1\n",
      "37800/37800 [==============================] - 204s 5ms/step - loss: 0.0151 - acc: 0.9953\n",
      "train accuracy: \n",
      "[0.9953439120262388]\n",
      "4199/4199 [==============================] - 10s 2ms/step\n",
      "test accuracy: \n",
      "0.9904739223624672\n",
      "29\n",
      "Epoch 1/1\n",
      "37800/37800 [==============================] - 214s 6ms/step - loss: 0.0153 - acc: 0.9946\n",
      "train accuracy: \n",
      "[0.9945502609014512]\n",
      "4199/4199 [==============================] - 10s 2ms/step\n",
      "test accuracy: \n",
      "0.9892831626577756\n"
     ]
    }
   ],
   "source": [
    "#training\n",
    "\n",
    "epochs = 20\n",
    "\n",
    "\n",
    "for i in range(0, epochs):\n",
    "    print(10+i)\n",
    "    #results = nnetwork.fit(np.array(trainx_sq_noisy), trainy_vector, batch_size=30)\n",
    "    results = network.fit(np.array(trainx_sq), trainy_vector, batch_size=30)\n",
    "    print(\"train accuracy: \")\n",
    "    print(results.history['acc'])\n",
    "    scores = network.evaluate(np.array(testx_sq), testy_vector)\n",
    "    #    scores = nnetwork.evaluate(np.array(testx_sq_noisy), testy_vector)\n",
    "    print('test accuracy: ')\n",
    "    print(scores[1])\n",
    "                              \n",
    "    \n",
    "\n"
   ]
  },
  {
   "cell_type": "code",
   "execution_count": null,
   "metadata": {
    "collapsed": true
   },
   "outputs": [],
   "source": [
    "\n",
    "#thanks joan\n",
    "\n",
    "def write_results(res, path='', name=''):\n",
    "    results = pd.DataFrame({'ImageId':range(1,28001), 'Label':res})\n",
    "    if name == '':\n",
    "        name = 'results'\n",
    "    results.to_csv(path + name + '.csv', index=False)\n",
    "    \n",
    "predictions = nnetwork.predict(testset_noisy_sq)\n",
    "\n",
    "output_name = input('Enter name for outputfile\\n')\n",
    "print('Writing results to .csv file')\n",
    "write_results(categorical_to_class(predictions), 'results/', output_name)\n",
    "\n"
   ]
  }
 ],
 "metadata": {
  "kernelspec": {
   "display_name": "Python 3",
   "language": "python",
   "name": "python3"
  },
  "language_info": {
   "codemirror_mode": {
    "name": "ipython",
    "version": 3
   },
   "file_extension": ".py",
   "mimetype": "text/x-python",
   "name": "python",
   "nbconvert_exporter": "python",
   "pygments_lexer": "ipython3",
   "version": "3.6.3"
  }
 },
 "nbformat": 4,
 "nbformat_minor": 2
}
