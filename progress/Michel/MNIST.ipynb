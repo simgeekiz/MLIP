{
 "cells": [
  {
   "cell_type": "markdown",
   "metadata": {},
   "source": [
    "# MNIST - Digit Recognizer"
   ]
  },
  {
   "cell_type": "markdown",
   "metadata": {},
   "source": [
    "Notebook to classify the MNIST network."
   ]
  },
  {
   "cell_type": "markdown",
   "metadata": {},
   "source": [
    "## Import libraries\n"
   ]
  },
  {
   "cell_type": "code",
   "execution_count": 1,
   "metadata": {},
   "outputs": [
    {
     "name": "stderr",
     "output_type": "stream",
     "text": [
      "C:\\Users\\miche\\Anaconda3\\envs\\tensorflow\\lib\\site-packages\\h5py\\__init__.py:36: FutureWarning: Conversion of the second argument of issubdtype from `float` to `np.floating` is deprecated. In future, it will be treated as `np.float64 == np.dtype(float).type`.\n",
      "  from ._conv import register_converters as _register_converters\n",
      "Using TensorFlow backend.\n"
     ]
    }
   ],
   "source": [
    "import matplotlib.pyplot as plt\n",
    "import random\n",
    "import time\n",
    "import os\n",
    "\n",
    "from IPython import display\n",
    "\n",
    "from sklearn.utils import shuffle\n",
    "\n",
    "from keras.models import Model, load_model\n",
    "from keras.layers import Input, Dense, Dropout, Flatten, BatchNormalization, Activation, LeakyReLU\n",
    "from keras.layers.convolutional import Conv2D, MaxPooling2D\n",
    "from keras.optimizers import Adam\n",
    "\n",
    "from toolkit import write_results, read_preprocessed_dataset"
   ]
  },
  {
   "cell_type": "markdown",
   "metadata": {},
   "source": [
    "## Set globals"
   ]
  },
  {
   "cell_type": "code",
   "execution_count": 2,
   "metadata": {
    "collapsed": true
   },
   "outputs": [],
   "source": [
    "# variable indicating whether to use the splitted datasets (with validation).\n",
    "SPLITTED = False\n",
    "\n",
    "DATA_FOLDER = '../../../preprocessed_datasets/splitted/' if SPLITTED else '../../../preprocessed_datasets/full/'\n",
    "RESULTS_FOLDER = '../Michel/results/'"
   ]
  },
  {
   "cell_type": "markdown",
   "metadata": {
    "collapsed": true
   },
   "source": [
    "## Read data"
   ]
  },
  {
   "cell_type": "code",
   "execution_count": null,
   "metadata": {},
   "outputs": [],
   "source": [
    "if SPLITTED:\n",
    "    X_train, y_train, X_test, X_val, y_val = read_preprocessed_dataset(DATA_FOLDER)\n",
    "    print('Size X_train: {0}'.format(X_train.shape))\n",
    "    print('Size y_train: {0}'.format(y_train.shape))\n",
    "    print('Size X_test: {0}'.format(X_test.shape))\n",
    "    print('Size X_val: {0}'.format(X_val.shape))\n",
    "    print('Size y_val: {0}'.format(y_val.shape))\n",
    "\n",
    "else:\n",
    "    X_train, y_train, X_test = read_preprocessed_dataset(DATA_FOLDER)\n",
    "    print('Size X_train: {0}'.format(X_train.shape))\n",
    "    print('Size y_train: {0}'.format(y_train.shape))\n",
    "    print('Size X_test: {0}'.format(X_test.shape))\n",
    "\n",
    "# show (pseudo-)random picture from the training data.\n",
    "sample_idx = random.randint(0, X_train.shape[0])\n",
    "sample = X_train[sample_idx]\n",
    "plt.imshow(sample.reshape((28, 28)), cmap='Greys', interpolation='nearest')\n",
    "plt.title('Handwritten number {0}'.format(y_train[sample_idx]))\n",
    "plt.show()"
   ]
  },
  {
   "cell_type": "markdown",
   "metadata": {},
   "source": [
    "## Find the best network"
   ]
  },
  {
   "cell_type": "code",
   "execution_count": 25,
   "metadata": {
    "collapsed": true
   },
   "outputs": [],
   "source": [
    "# set variables\n",
    "file_dir = './'\n",
    "network_filepath = os.path.join(file_dir, 'best_model_mnist.h5')\n",
    "\n",
    "nr_of_classes = y_train.shape[1]\n",
    "epochs = 100\n",
    "batch_size = 128\n",
    "learning_rate = 1e-2\n",
    "optimizer = Adam(lr=learning_rate)"
   ]
  },
  {
   "cell_type": "code",
   "execution_count": 26,
   "metadata": {
    "collapsed": true
   },
   "outputs": [],
   "source": [
    "def conv_model(nr_of_classes):\n",
    "    inputs = Input(shape=(1, 28, 28))\n",
    "    \n",
    "    # layer 1\n",
    "    x = Conv2D(128, (3, 3), data_format='channels_first')(inputs)\n",
    "    x = BatchNormalization()(x)\n",
    "    x = LeakyReLU(alpha=0.1)(x)\n",
    "    x = Dropout(0.2)(x)\n",
    "    x = MaxPooling2D(pool_size=(2, 2))(x)\n",
    "\n",
    "    # layer 2\n",
    "    x = Conv2D(256, (3, 3))(x)\n",
    "    x = BatchNormalization()(x)\n",
    "    x = LeakyReLU(alpha=0.1)(x)\n",
    "    x = Dropout(0.2)(x)\n",
    "    x = MaxPooling2D(pool_size=(2, 2))(x)\n",
    "\n",
    "    # layer 3\n",
    "    x = Conv2D(512, (3, 3))(x)\n",
    "    x = BatchNormalization()(x)\n",
    "    x = LeakyReLU(alpha=0.1)(x)\n",
    "    x = Dropout(0.2)(x)\n",
    "    x = MaxPooling2D(pool_size=(2, 2))(x)\n",
    "\n",
    "    x = Flatten()(x)\n",
    "    x = Dense(512, kernel_initializer='he_normal')(x)\n",
    "    x = LeakyReLU(alpha=0.1)(x)\n",
    "    x = Dropout(0.4)(x)\n",
    "\n",
    "    predictions = Dense(nr_of_classes, kernel_initializer='he_normal', activation='softmax')(x)\n",
    "    model = Model(inputs=inputs, outputs=predictions)\n",
    "    print(model.summary())\n",
    "    return model"
   ]
  },
  {
   "cell_type": "code",
   "execution_count": 27,
   "metadata": {},
   "outputs": [
    {
     "name": "stdout",
     "output_type": "stream",
     "text": [
      "_________________________________________________________________\n",
      "Layer (type)                 Output Shape              Param #   \n",
      "=================================================================\n",
      "input_4 (InputLayer)         (None, 1, 28, 28)         0         \n",
      "_________________________________________________________________\n",
      "conv2d_10 (Conv2D)           (None, 128, 26, 26)       1280      \n",
      "_________________________________________________________________\n",
      "batch_normalization_10 (Batc (None, 128, 26, 26)       104       \n",
      "_________________________________________________________________\n",
      "leaky_re_lu_13 (LeakyReLU)   (None, 128, 26, 26)       0         \n",
      "_________________________________________________________________\n",
      "dropout_13 (Dropout)         (None, 128, 26, 26)       0         \n",
      "_________________________________________________________________\n",
      "max_pooling2d_9 (MaxPooling2 (None, 64, 13, 26)        0         \n",
      "_________________________________________________________________\n",
      "conv2d_11 (Conv2D)           (None, 62, 11, 256)       60160     \n",
      "_________________________________________________________________\n",
      "batch_normalization_11 (Batc (None, 62, 11, 256)       1024      \n",
      "_________________________________________________________________\n",
      "leaky_re_lu_14 (LeakyReLU)   (None, 62, 11, 256)       0         \n",
      "_________________________________________________________________\n",
      "dropout_14 (Dropout)         (None, 62, 11, 256)       0         \n",
      "_________________________________________________________________\n",
      "max_pooling2d_10 (MaxPooling (None, 31, 5, 256)        0         \n",
      "_________________________________________________________________\n",
      "conv2d_12 (Conv2D)           (None, 29, 3, 512)        1180160   \n",
      "_________________________________________________________________\n",
      "batch_normalization_12 (Batc (None, 29, 3, 512)        2048      \n",
      "_________________________________________________________________\n",
      "leaky_re_lu_15 (LeakyReLU)   (None, 29, 3, 512)        0         \n",
      "_________________________________________________________________\n",
      "dropout_15 (Dropout)         (None, 29, 3, 512)        0         \n",
      "_________________________________________________________________\n",
      "max_pooling2d_11 (MaxPooling (None, 14, 1, 512)        0         \n",
      "_________________________________________________________________\n",
      "flatten_4 (Flatten)          (None, 7168)              0         \n",
      "_________________________________________________________________\n",
      "dense_7 (Dense)              (None, 512)               3670528   \n",
      "_________________________________________________________________\n",
      "leaky_re_lu_16 (LeakyReLU)   (None, 512)               0         \n",
      "_________________________________________________________________\n",
      "dropout_16 (Dropout)         (None, 512)               0         \n",
      "_________________________________________________________________\n",
      "dense_8 (Dense)              (None, 10)                5130      \n",
      "=================================================================\n",
      "Total params: 4,920,434\n",
      "Trainable params: 4,918,846\n",
      "Non-trainable params: 1,588\n",
      "_________________________________________________________________\n",
      "None\n"
     ]
    }
   ],
   "source": [
    "# compile\n",
    "model = conv_model(nr_of_classes)\n",
    "model.compile(optimizer=optimizer,\n",
    "                loss='categorical_crossentropy',\n",
    "                metrics=['accuracy']\n",
    ")"
   ]
  },
  {
   "cell_type": "markdown",
   "metadata": {},
   "source": [
    "### Learning procedure"
   ]
  },
  {
   "cell_type": "code",
   "execution_count": 28,
   "metadata": {
    "collapsed": true
   },
   "outputs": [],
   "source": [
    "def train_network(network, X_train, y_train, X_val, y_val, epochs, batch_size, network_filepath):\n",
    "    # lists where we will be storing values during training, for visualization purposes\n",
    "    tra_losses = [] # list for training loss\n",
    "    tra_accs = [] # list for training accuracy\n",
    "    val_losses = [] # list for validation loss\n",
    "    val_accs = [] # list for validation accuracy\n",
    "\n",
    "    # we want to save the parameters that give the best performance on the validation set\n",
    "    # therefore, we store the best validation accuracy, and save the parameters to disk\n",
    "    best_validation_accuracy = 0 # best validation accuracy\n",
    "    \n",
    "    for epoch in range(epochs):\n",
    "        st = time.time()\n",
    "\n",
    "        # Train your network\n",
    "        results = network.fit(X_train, y_train, batch_size=batch_size)\n",
    "\n",
    "        # Get training loss and accuracy\n",
    "        training_loss = results.history['loss']\n",
    "        training_accuracy = results.history['acc']\n",
    "\n",
    "        # Add to list\n",
    "        tra_losses.append(training_loss)\n",
    "        tra_accs.append(training_accuracy)\n",
    "\n",
    "        # Evaluate performance (loss and accuracy) on validation set\n",
    "        scores = network.evaluate(X_val, y_val, batch_size=batch_size)     \n",
    "        validation_loss = scores[0]\n",
    "        validation_accuracy = scores[1]\n",
    "\n",
    "        # Add to list\n",
    "        val_losses.append(validation_loss)\n",
    "        val_accs.append(validation_accuracy)\n",
    "\n",
    "        # (Possibly) update best validation accuracy and save the network\n",
    "        if validation_accuracy > best_validation_accuracy:\n",
    "            best_validation_accuracy = max(val_accs)\n",
    "            network.save(network_filepath)\n",
    "\n",
    "        # Visualization of the learning curves\n",
    "        fig = plt.figure(figsize=(10, 5))\n",
    "        tra_loss_plt, = plt.plot(range(len(tra_losses)), tra_losses, 'b')\n",
    "        tra_accs_plt, = plt.plot(range(len(tra_accs)), tra_accs, 'c')\n",
    "        val_loss_plt, = plt.plot(range(len(val_losses)), val_losses, 'g')\n",
    "        val_acc_plt, = plt.plot(range(len(val_accs)), val_accs, 'r')\n",
    "        plt.xlabel('epoch')\n",
    "        plt.ylabel('loss')\n",
    "        plt.legend([tra_loss_plt, tra_accs_plt, val_loss_plt, val_acc_plt], \n",
    "                  ['training loss', 'training accuracy', 'validation loss', 'validation accuracy'],\n",
    "                  loc='center left', bbox_to_anchor=(1, 0.5))\n",
    "        plt.title('Best validation accuracy = {:.2f}%'.format(100. * best_validation_accuracy))\n",
    "        display.clear_output(wait=True)\n",
    "        display.display(plt.gcf())\n",
    "        time.sleep(.2)"
   ]
  },
  {
   "cell_type": "markdown",
   "metadata": {},
   "source": [
    "Scores:\n",
    "\n",
    "without dropout, lr = 0.0005 -> 98.48\n",
    "\n",
    "dropout - between all layers 0.2 -> 98.45\n",
    "\n",
    "dropout- all 0.2, last 0.4 - 0.15% test -> 98.41\n"
   ]
  },
  {
   "cell_type": "code",
   "execution_count": null,
   "metadata": {},
   "outputs": [
    {
     "data": {
      "image/png": "[encoded data removed]",
      "text/plain": [
       "<Figure size 720x360 with 1 Axes>"
      ]
     },
     "metadata": {},
     "output_type": "display_data"
    },
    {
     "name": "stdout",
     "output_type": "stream",
     "text": [
      "Epoch 1/1\n",
      "18432/35700 [==============>...............] - ETA: 1:00 - loss: 14.6717 - acc: 0.0897"
     ]
    }
   ],
   "source": [
    "train_network(model, X_train, y_train, X_val, y_val, epochs, batch_size, network_filepath)"
   ]
  },
  {
   "cell_type": "markdown",
   "metadata": {},
   "source": [
    "# Classification"
   ]
  },
  {
   "cell_type": "markdown",
   "metadata": {},
   "source": [
    "## Train the full network"
   ]
  },
  {
   "cell_type": "code",
   "execution_count": 33,
   "metadata": {
    "collapsed": true
   },
   "outputs": [],
   "source": [
    "# use the total training set again\n",
    "X_train = np.concatenate([X_train, X_val])\n",
    "y_train = np.concatenate([y_train, y_val])\n",
    "\n",
    "# shuffle the data sets\n",
    "X_train, y_train = shuffle(X_train, y_train)\n",
    "\n",
    "# train the best model\n",
    "\n",
    "# best_network.fit(X_train, y_train, epochs=epochs, batch_size=batch_size)"
   ]
  },
  {
   "cell_type": "markdown",
   "metadata": {},
   "source": [
    "### Test set classification"
   ]
  },
  {
   "cell_type": "code",
   "execution_count": 26,
   "metadata": {
    "collapsed": true
   },
   "outputs": [],
   "source": [
    "best_network = load_model(network_filepath)\n",
    "predictions = best_network.predict(X_test)\n",
    "predictions = [np.argmax(sample_scores) for sample_scores in predictions]\n",
    "# 98,81 on validation\n",
    "# write to the results folder\n",
    "write_results(predictions, RESULTS_FOLDER, 'conv_jup2_results')"
   ]
  },
  {
   "cell_type": "code",
   "execution_count": null,
   "metadata": {
    "collapsed": true
   },
   "outputs": [],
   "source": []
  }
 ],
 "metadata": {
  "kernelspec": {
   "display_name": "tensorflow",
   "language": "python",
   "name": "tensorflow"
  },
  "language_info": {
   "codemirror_mode": {
    "name": "ipython",
    "version": 3
   },
   "file_extension": ".py",
   "mimetype": "text/x-python",
   "name": "python",
   "nbconvert_exporter": "python",
   "pygments_lexer": "ipython3",
   "version": "3.5.4"
  }
 },
 "nbformat": 4,
 "nbformat_minor": 2
}
