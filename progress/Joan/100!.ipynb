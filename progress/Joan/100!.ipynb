{
 "cells": [
  {
   "cell_type": "markdown",
   "metadata": {},
   "source": [
    "Import needed functions and libraries."
   ]
  },
  {
   "cell_type": "code",
   "execution_count": 1,
   "metadata": {},
   "outputs": [
    {
     "name": "stderr",
     "output_type": "stream",
     "text": [
      "Using TensorFlow backend.\n"
     ]
    }
   ],
   "source": [
    "from toolkit.testing import *\n",
    "from toolkit.file_operations import mnist_to_nparray\n",
    "from keras.utils import np_utils\n",
    "from time import time\n",
    "\n",
    "def reshape_data(x, y):\n",
    "\tx = x.reshape(x.shape[0], 28, 28, 1)\n",
    "\ty = np_utils.to_categorical(y, 10)\n",
    "\treturn x, y"
   ]
  },
  {
   "cell_type": "markdown",
   "metadata": {},
   "source": [
    "Augment data by adding 10% pixel noise. Then add the augmented data to the original data and train the model on the extended dataset to see if the performance has improved."
   ]
  },
  {
   "cell_type": "code",
   "execution_count": 4,
   "metadata": {},
   "outputs": [],
   "source": [
    "[x,y,_] = mnist_to_nparray('data/', 'train', 'test', False)\n",
    "[x10,y10,_] = mnist_to_nparray('data/', 'train10', 'test', False)\n",
    "\n",
    "n = int(42000*.9)\n",
    "train = np.concatenate((x[:n,:], x10[:n,:]), axis=0)\n",
    "trainlabels = np.concatenate((y[:n],y10[:n]))\n",
    "\n",
    "validation = x[n:,:]\n",
    "validationlabels = y[n:]\n",
    "\n",
    "train, trainlabels = reshape_data(train, trainlabels)\n",
    "validation, validationlabels = reshape_data(validation, validationlabels)"
   ]
  },
  {
   "cell_type": "code",
   "execution_count": 5,
   "metadata": {},
   "outputs": [
    {
     "name": "stderr",
     "output_type": "stream",
     "text": [
      "C:\\Users\\Joan\\Desktop\\Uni\\Machine Learning in Practice\\github\\MLIP\\progress\\Joan\\toolkit\\testing.py:11: UserWarning: Update your `Conv2D` call to the Keras 2 API: `Conv2D(32, (3, 3), input_shape=(28, 28, 1...)`\n",
      "  model.add(Convolution2D(32, 3, 3, input_shape=(28,28,1)))\n",
      "C:\\Users\\Joan\\Desktop\\Uni\\Machine Learning in Practice\\github\\MLIP\\progress\\Joan\\toolkit\\testing.py:14: UserWarning: Update your `Conv2D` call to the Keras 2 API: `Conv2D(32, (3, 3))`\n",
      "  model.add(Convolution2D(32, 3, 3))\n"
     ]
    },
    {
     "name": "stdout",
     "output_type": "stream",
     "text": [
      "Epoch 1/20\n",
      "75600/75600 [==============================] - 33s 436us/step - loss: 0.3975\n",
      "Epoch 2/20\n",
      "75600/75600 [==============================] - 32s 430us/step - loss: 0.1723\n",
      "Epoch 3/20\n",
      "75600/75600 [==============================] - 32s 428us/step - loss: 0.1227\n",
      "Epoch 4/20\n",
      "75600/75600 [==============================] - 32s 426us/step - loss: 0.0932\n",
      "Epoch 5/20\n",
      "75600/75600 [==============================] - 33s 435us/step - loss: 0.0773\n",
      "Epoch 6/20\n",
      "75600/75600 [==============================] - 33s 430us/step - loss: 0.0735\n",
      "Epoch 7/20\n",
      "75600/75600 [==============================] - 34s 443us/step - loss: 0.0597\n",
      "Epoch 8/20\n",
      "75600/75600 [==============================] - 33s 430us/step - loss: 0.0549\n",
      "Epoch 9/20\n",
      "75600/75600 [==============================] - 32s 430us/step - loss: 0.0498\n",
      "Epoch 10/20\n",
      "75600/75600 [==============================] - 33s 439us/step - loss: 0.0441\n",
      "Epoch 11/20\n",
      "75600/75600 [==============================] - 32s 429us/step - loss: 0.0394\n",
      "Epoch 12/20\n",
      "75600/75600 [==============================] - 32s 429us/step - loss: 0.0377\n",
      "Epoch 13/20\n",
      "75600/75600 [==============================] - 32s 430us/step - loss: 0.0343\n",
      "Epoch 14/20\n",
      "75600/75600 [==============================] - 32s 429us/step - loss: 0.0336\n",
      "Epoch 15/20\n",
      "75600/75600 [==============================] - 33s 437us/step - loss: 0.0302\n",
      "Epoch 16/20\n",
      "75600/75600 [==============================] - 33s 432us/step - loss: 0.0300\n",
      "Epoch 17/20\n",
      "75600/75600 [==============================] - 33s 433us/step - loss: 0.0279\n",
      "Epoch 18/20\n",
      "75600/75600 [==============================] - 32s 427us/step - loss: 0.0261\n",
      "Epoch 19/20\n",
      "75600/75600 [==============================] - 31s 406us/step - loss: 0.0255\n",
      "Epoch 20/20\n",
      "75600/75600 [==============================] - 31s 405us/step - loss: 0.0244\n"
     ]
    }
   ],
   "source": [
    "model = train_conv_net(train,trainlabels,20)"
   ]
  },
  {
   "cell_type": "code",
   "execution_count": 10,
   "metadata": {},
   "outputs": [
    {
     "name": "stdout",
     "output_type": "stream",
     "text": [
      "Augmented with 10% pixel noise. accuracy:\t0.9916666666666667\n"
     ]
    }
   ],
   "source": [
    "pred = categorical_to_class(model.predict(validation))\n",
    "accuracy(pred, categorical_to_class(validationlabels), 'Augmented with 10% pixel noise.')"
   ]
  },
  {
   "cell_type": "markdown",
   "metadata": {},
   "source": [
    "Train model on original data to check performance."
   ]
  },
  {
   "cell_type": "code",
   "execution_count": 12,
   "metadata": {},
   "outputs": [],
   "source": [
    "[x1,y1,_] = mnist_to_nparray('data/', 'train', 'test', False)\n",
    "\n",
    "n1 = int(42000*.9)\n",
    "train1 = x1[:n1,:]\n",
    "trainlabels1 = y1[:n1]\n",
    "\n",
    "validation1 = x1[n1:,:]\n",
    "validationlabels1 = y1[n1:]\n",
    "\n",
    "train1, trainlabels1 = reshape_data(train1, trainlabels1)\n",
    "validation1, validationlabels1 = reshape_data(validation1, validationlabels1)"
   ]
  },
  {
   "cell_type": "code",
   "execution_count": 15,
   "metadata": {},
   "outputs": [
    {
     "name": "stderr",
     "output_type": "stream",
     "text": [
      "C:\\Users\\Joan\\Desktop\\Uni\\Machine Learning in Practice\\github\\MLIP\\progress\\Joan\\toolkit\\testing.py:11: UserWarning: Update your `Conv2D` call to the Keras 2 API: `Conv2D(32, (3, 3), input_shape=(28, 28, 1...)`\n",
      "  model.add(Convolution2D(32, 3, 3, input_shape=(28,28,1)))\n",
      "C:\\Users\\Joan\\Desktop\\Uni\\Machine Learning in Practice\\github\\MLIP\\progress\\Joan\\toolkit\\testing.py:14: UserWarning: Update your `Conv2D` call to the Keras 2 API: `Conv2D(32, (3, 3))`\n",
      "  model.add(Convolution2D(32, 3, 3))\n"
     ]
    },
    {
     "name": "stdout",
     "output_type": "stream",
     "text": [
      "Epoch 1/40\n",
      "37800/37800 [==============================] - 17s 452us/step - loss: 0.4954\n",
      "Epoch 2/40\n",
      "37800/37800 [==============================] - 16s 428us/step - loss: 0.2336\n",
      "Epoch 3/40\n",
      "37800/37800 [==============================] - 16s 427us/step - loss: 0.1726\n",
      "Epoch 4/40\n",
      "37800/37800 [==============================] - 16s 424us/step - loss: 0.1340\n",
      "Epoch 5/40\n",
      "37800/37800 [==============================] - 16s 420us/step - loss: 0.1135\n",
      "Epoch 6/40\n",
      "37800/37800 [==============================] - 16s 424us/step - loss: 0.0987\n",
      "Epoch 7/40\n",
      "37800/37800 [==============================] - 16s 428us/step - loss: 0.0840\n",
      "Epoch 8/40\n",
      "37800/37800 [==============================] - 16s 427us/step - loss: 0.0738\n",
      "Epoch 9/40\n",
      "37800/37800 [==============================] - 16s 431us/step - loss: 0.0649\n",
      "Epoch 10/40\n",
      "37800/37800 [==============================] - 16s 436us/step - loss: 0.0613\n",
      "Epoch 11/40\n",
      "37800/37800 [==============================] - 16s 425us/step - loss: 0.0554\n",
      "Epoch 12/40\n",
      "37800/37800 [==============================] - 16s 430us/step - loss: 0.0506\n",
      "Epoch 13/40\n",
      "37800/37800 [==============================] - 16s 424us/step - loss: 0.0464\n",
      "Epoch 14/40\n",
      "37800/37800 [==============================] - 16s 424us/step - loss: 0.0432\n",
      "Epoch 15/40\n",
      "37800/37800 [==============================] - 16s 423us/step - loss: 0.0393\n",
      "Epoch 16/40\n",
      "37800/37800 [==============================] - 16s 421us/step - loss: 0.0381\n",
      "Epoch 17/40\n",
      "37800/37800 [==============================] - 16s 430us/step - loss: 0.0348\n",
      "Epoch 18/40\n",
      "37800/37800 [==============================] - 16s 424us/step - loss: 0.0323\n",
      "Epoch 19/40\n",
      "37800/37800 [==============================] - 16s 422us/step - loss: 0.0321\n",
      "Epoch 20/40\n",
      "37800/37800 [==============================] - 16s 426us/step - loss: 0.0291\n",
      "Epoch 21/40\n",
      "37800/37800 [==============================] - 16s 420us/step - loss: 0.0289\n",
      "Epoch 22/40\n",
      "37800/37800 [==============================] - 15s 408us/step - loss: 0.0264\n",
      "Epoch 23/40\n",
      "37800/37800 [==============================] - 15s 407us/step - loss: 0.0299\n",
      "Epoch 24/40\n",
      "37800/37800 [==============================] - 16s 412us/step - loss: 0.0258\n",
      "Epoch 25/40\n",
      "37800/37800 [==============================] - 16s 410us/step - loss: 0.0230\n",
      "Epoch 26/40\n",
      "37800/37800 [==============================] - 16s 426us/step - loss: 0.0265\n",
      "Epoch 27/40\n",
      "37800/37800 [==============================] - 16s 428us/step - loss: 0.0239\n",
      "Epoch 28/40\n",
      "37800/37800 [==============================] - 17s 441us/step - loss: 0.0268\n",
      "Epoch 29/40\n",
      "37800/37800 [==============================] - 16s 416us/step - loss: 0.0221\n",
      "Epoch 30/40\n",
      "37800/37800 [==============================] - 16s 417us/step - loss: 0.0207\n",
      "Epoch 31/40\n",
      "37800/37800 [==============================] - 16s 419us/step - loss: 0.0209\n",
      "Epoch 32/40\n",
      "37800/37800 [==============================] - 16s 422us/step - loss: 0.0192\n",
      "Epoch 33/40\n",
      "37800/37800 [==============================] - 17s 446us/step - loss: 0.0204\n",
      "Epoch 34/40\n",
      "37800/37800 [==============================] - 21s 559us/step - loss: 0.0182\n",
      "Epoch 35/40\n",
      "37800/37800 [==============================] - 17s 442us/step - loss: 0.0180\n",
      "Epoch 36/40\n",
      "37800/37800 [==============================] - 18s 467us/step - loss: 0.0193\n",
      "Epoch 37/40\n",
      "37800/37800 [==============================] - 20s 520us/step - loss: 0.01810s \n",
      "Epoch 38/40\n",
      "37800/37800 [==============================] - 16s 424us/step - loss: 0.0170\n",
      "Epoch 39/40\n",
      "37800/37800 [==============================] - 19s 507us/step - loss: 0.0167\n",
      "Epoch 40/40\n",
      "37800/37800 [==============================] - 22s 582us/step - loss: 0.0156\n"
     ]
    }
   ],
   "source": [
    "model1 = train_conv_net(train1,trainlabels1,40)"
   ]
  },
  {
   "cell_type": "code",
   "execution_count": 16,
   "metadata": {},
   "outputs": [
    {
     "name": "stdout",
     "output_type": "stream",
     "text": [
      "Normal data accuracy:\t0.9921428571428571\n"
     ]
    }
   ],
   "source": [
    "pred1 = categorical_to_class(model1.predict(validation1))\n",
    "accuracy(pred1, categorical_to_class(validationlabels1), 'Normal data')"
   ]
  },
  {
   "cell_type": "markdown",
   "metadata": {},
   "source": [
    "Use for writing results."
   ]
  },
  {
   "cell_type": "code",
   "execution_count": 23,
   "metadata": {},
   "outputs": [],
   "source": [
    "pred = categorical_to_class(model.predict(z))"
   ]
  },
  {
   "cell_type": "code",
   "execution_count": 29,
   "metadata": {},
   "outputs": [],
   "source": [
    "from toolkit.file_operations import write_results"
   ]
  },
  {
   "cell_type": "code",
   "execution_count": 31,
   "metadata": {},
   "outputs": [],
   "source": [
    "write_results(pred, 'results/', '100epochWOW')"
   ]
  }
 ],
 "metadata": {
  "kernelspec": {
   "display_name": "Python 3",
   "language": "python",
   "name": "python3"
  },
  "language_info": {
   "codemirror_mode": {
    "name": "ipython",
    "version": 3
   },
   "file_extension": ".py",
   "mimetype": "text/x-python",
   "name": "python",
   "nbconvert_exporter": "python",
   "pygments_lexer": "ipython3",
   "version": "3.5.5"
  }
 },
 "nbformat": 4,
 "nbformat_minor": 2
}
