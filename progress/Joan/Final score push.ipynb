{
 "cells": [
  {
   "cell_type": "markdown",
   "metadata": {},
   "source": [
    "### Setup"
   ]
  },
  {
   "cell_type": "code",
   "execution_count": 1,
   "metadata": {},
   "outputs": [
    {
     "name": "stderr",
     "output_type": "stream",
     "text": [
      "Using TensorFlow backend.\n"
     ]
    }
   ],
   "source": [
    "from toolkit.testing import *\n",
    "from toolkit.file_operations import mnist_to_nparray\n",
    "from toolkit.noise import display_digit\n",
    "from keras.utils import np_utils\n",
    "from time import time\n",
    "from toolkit.file_operations import write_results\n",
    "\n",
    "def reshape_data(x, y):\n",
    "    x = x.reshape(x.shape[0], 28, 28, 1)\n",
    "    y = np_utils.to_categorical(y, 10)\n",
    "    return x, y\n",
    "\n",
    "[x,y,t] = mnist_to_nparray('data/', 'train', 'test', False)\n",
    "x = x/255.0\n",
    "t = t/255.0\n",
    "\n",
    "n = int(42000*.9)\n",
    "train = x[:n,:]\n",
    "trainlabels = y[:n]\n",
    "\n",
    "validation = x[n:,:]\n",
    "validationlabels = y[n:]\n",
    "\n",
    "t = t.reshape(t.shape[0], 28, 28, 1)\n",
    "train = train.reshape(train.shape[0], 28, 28, 1)\n",
    "validation = validation.reshape(validation.shape[0], 28, 28, 1)\n",
    "trainlabels = np_utils.to_categorical(trainlabels, 10)"
   ]
  },
  {
   "cell_type": "markdown",
   "metadata": {},
   "source": [
    "### Augmenting data"
   ]
  },
  {
   "cell_type": "code",
   "execution_count": 3,
   "metadata": {},
   "outputs": [
    {
     "name": "stdout",
     "output_type": "stream",
     "text": [
      "0.1263442039489746\n"
     ]
    }
   ],
   "source": [
    "from keras.preprocessing.image import ImageDataGenerator\n",
    "\n",
    "dataaug = ImageDataGenerator(\n",
    "            featurewise_center=False,\n",
    "            samplewise_center=False,\n",
    "            featurewise_std_normalization=False,\n",
    "            samplewise_std_normalization=False,\n",
    "            zca_whitening=False,\n",
    "            rotation_range=10,\n",
    "            zoom_range=0.1,\n",
    "            width_shift_range=0.1,\n",
    "            height_shift_range=0.1,\n",
    "            horizontal_flip=False,\n",
    "            vertical_flip=False)\n",
    "\n",
    "dataaug.fit(train)"
   ]
  },
  {
   "cell_type": "code",
   "execution_count": 4,
   "metadata": {},
   "outputs": [
    {
     "data": {
      "text/plain": [
       "(37800, 28, 28, 1)"
      ]
     },
     "execution_count": 4,
     "metadata": {},
     "output_type": "execute_result"
    }
   ],
   "source": [
    "train.shape"
   ]
  },
  {
   "cell_type": "markdown",
   "metadata": {},
   "source": [
    "### Joan's model"
   ]
  },
  {
   "cell_type": "code",
   "execution_count": 2,
   "metadata": {},
   "outputs": [
    {
     "name": "stderr",
     "output_type": "stream",
     "text": [
      "C:\\Users\\Joan\\Desktop\\Uni\\Machine Learning in Practice\\github\\MLIP\\progress\\Joan\\toolkit\\testing.py:43: UserWarning: Update your `Conv2D` call to the Keras 2 API: `Conv2D(32, (4, 4), input_shape=(28, 28, 1...)`\n",
      "  model.add(Convolution2D(32, 4, 4, input_shape=(28,28,1)))\n",
      "C:\\Users\\Joan\\Desktop\\Uni\\Machine Learning in Practice\\github\\MLIP\\progress\\Joan\\toolkit\\testing.py:47: UserWarning: Update your `Conv2D` call to the Keras 2 API: `Conv2D(32, (3, 3))`\n",
      "  model.add(Convolution2D(32, 3, 3))\n"
     ]
    },
    {
     "name": "stdout",
     "output_type": "stream",
     "text": [
      "1000epochs:\t accuracy:\t0.9940476190476191\n"
     ]
    }
   ],
   "source": [
    "epochs = 1000\n",
    "modelj = train_conv_net(train,trainlabels,epochs,verbose=0)\n",
    "predj = categorical_to_class(modelj.predict(validation))\n",
    "accuracy(predj, validationlabels, str(epochs) + 'epochs:\\t')"
   ]
  },
  {
   "cell_type": "code",
   "execution_count": 6,
   "metadata": {},
   "outputs": [],
   "source": [
    "predjt = categorical_to_class(modelj.predict(t))\n",
    "write_results(predjt, 'results/', '1000')"
   ]
  },
  {
   "cell_type": "markdown",
   "metadata": {},
   "source": [
    "### Simge's model"
   ]
  },
  {
   "cell_type": "code",
   "execution_count": 3,
   "metadata": {},
   "outputs": [
    {
     "name": "stdout",
     "output_type": "stream",
     "text": [
      "2400epochs:\t accuracy:\t0.9926190476190476\n"
     ]
    }
   ],
   "source": [
    "models = train_simges_net(train,trainlabels,int(epochs*2.4), verbose=0)\n",
    "preds = categorical_to_class(models.predict(validation))\n",
    "accuracy(preds, validationlabels, str(int(epochs*2.4)) + 'epochs:\\t')"
   ]
  },
  {
   "cell_type": "code",
   "execution_count": null,
   "metadata": {},
   "outputs": [],
   "source": []
  },
  {
   "cell_type": "code",
   "execution_count": 3,
   "metadata": {},
   "outputs": [],
   "source": []
  },
  {
   "cell_type": "code",
   "execution_count": null,
   "metadata": {},
   "outputs": [],
   "source": [
    "3 epochs, accuracy:    0.6697857142857143"
   ]
  },
  {
   "cell_type": "code",
   "execution_count": null,
   "metadata": {},
   "outputs": [],
   "source": [
    "10 epochs, accuracy:   0.7300238095238095"
   ]
  },
  {
   "cell_type": "code",
   "execution_count": null,
   "metadata": {},
   "outputs": [],
   "source": [
    "jo   50epochs:  accuracy:\t0.9921428571428571"
   ]
  },
  {
   "cell_type": "code",
   "execution_count": null,
   "metadata": {},
   "outputs": [],
   "source": [
    "jo2  50epochs:  accuracy:\t0.9933333333333333"
   ]
  },
  {
   "cell_type": "code",
   "execution_count": null,
   "metadata": {},
   "outputs": [],
   "source": [
    "jo2p 50epochs:  accuracy:\t0.9928571428571429"
   ]
  },
  {
   "cell_type": "code",
   "execution_count": null,
   "metadata": {},
   "outputs": [],
   "source": [
    "sim  120epochs: accuracy:\t0.9914285714285714"
   ]
  },
  {
   "cell_type": "code",
   "execution_count": null,
   "metadata": {},
   "outputs": [],
   "source": [
    "sim2 120epochs: accuracy:\t0.9930952380952381"
   ]
  },
  {
   "cell_type": "code",
   "execution_count": null,
   "metadata": {},
   "outputs": [],
   "source": []
  }
 ],
 "metadata": {
  "kernelspec": {
   "display_name": "Python 3",
   "language": "python",
   "name": "python3"
  },
  "language_info": {
   "codemirror_mode": {
    "name": "ipython",
    "version": 3
   },
   "file_extension": ".py",
   "mimetype": "text/x-python",
   "name": "python",
   "nbconvert_exporter": "python",
   "pygments_lexer": "ipython3",
   "version": "3.5.5"
  }
 },
 "nbformat": 4,
 "nbformat_minor": 2
}
